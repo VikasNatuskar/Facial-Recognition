{
 "cells": [
  {
   "cell_type": "code",
   "execution_count": 1,
   "id": "c78b3efd",
   "metadata": {},
   "outputs": [],
   "source": [
    "import numpy as np\n",
    "import pandas as pd\n",
    "\n",
    "import warnings\n",
    "warnings.filterwarnings('ignore')"
   ]
  },
  {
   "cell_type": "code",
   "execution_count": 2,
   "id": "bf5d8184",
   "metadata": {},
   "outputs": [],
   "source": [
    "data = np.load(\"ORL_faces.npz\")"
   ]
  },
  {
   "cell_type": "code",
   "execution_count": 3,
   "id": "62347603",
   "metadata": {},
   "outputs": [],
   "source": [
    "x_train = data['trainX']\n",
    "x_test = data['testX']\n",
    "y_train = data['trainY']\n",
    "y_test = data['testY']"
   ]
  },
  {
   "cell_type": "code",
   "execution_count": 4,
   "id": "3f7b0513",
   "metadata": {},
   "outputs": [
    {
     "name": "stdout",
     "output_type": "stream",
     "text": [
      "(240, 10304)\n",
      "(160, 10304)\n",
      "(240,)\n",
      "(160,)\n"
     ]
    }
   ],
   "source": [
    "print(x_train.shape)\n",
    "print(x_test.shape)\n",
    "print(y_train.shape)\n",
    "print(y_test.shape)"
   ]
  },
  {
   "cell_type": "code",
   "execution_count": 5,
   "id": "be466a79",
   "metadata": {},
   "outputs": [],
   "source": [
    "x_train = x_train.astype('float32')/255.0\n",
    "x_test = x_test.astype('float32')/255.0"
   ]
  },
  {
   "cell_type": "code",
   "execution_count": 6,
   "id": "1384bbdc",
   "metadata": {},
   "outputs": [
    {
     "name": "stdout",
     "output_type": "stream",
     "text": [
      "(240, 10304)\n",
      "(160, 10304)\n"
     ]
    }
   ],
   "source": [
    "print(x_train.shape)\n",
    "print(x_test.shape)"
   ]
  },
  {
   "cell_type": "code",
   "execution_count": 7,
   "id": "4a84ebf3",
   "metadata": {},
   "outputs": [
    {
     "data": {
      "text/plain": [
       "array([[0.1882353 , 0.19215687, 0.1764706 , ..., 0.18431373, 0.18039216,\n",
       "        0.18039216],\n",
       "       [0.23529412, 0.23529412, 0.24313726, ..., 0.1254902 , 0.13333334,\n",
       "        0.13333334],\n",
       "       [0.15294118, 0.17254902, 0.20784314, ..., 0.11372549, 0.10196079,\n",
       "        0.11372549],\n",
       "       ...,\n",
       "       [0.44705883, 0.45882353, 0.44705883, ..., 0.38431373, 0.3764706 ,\n",
       "        0.38431373],\n",
       "       [0.4117647 , 0.4117647 , 0.41960785, ..., 0.21176471, 0.18431373,\n",
       "        0.16078432],\n",
       "       [0.45490196, 0.44705883, 0.45882353, ..., 0.37254903, 0.39215687,\n",
       "        0.39607844]], dtype=float32)"
      ]
     },
     "execution_count": 7,
     "metadata": {},
     "output_type": "execute_result"
    }
   ],
   "source": [
    "x_train"
   ]
  },
  {
   "cell_type": "code",
   "execution_count": 8,
   "id": "60356c90",
   "metadata": {},
   "outputs": [
    {
     "data": {
      "text/plain": [
       "array([ 0,  0,  0,  0,  0,  0,  0,  0,  0,  0,  0,  0,  1,  1,  1,  1,  1,\n",
       "        1,  1,  1,  1,  1,  1,  1,  2,  2,  2,  2,  2,  2,  2,  2,  2,  2,\n",
       "        2,  2,  3,  3,  3,  3,  3,  3,  3,  3,  3,  3,  3,  3,  4,  4,  4,\n",
       "        4,  4,  4,  4,  4,  4,  4,  4,  4,  5,  5,  5,  5,  5,  5,  5,  5,\n",
       "        5,  5,  5,  5,  6,  6,  6,  6,  6,  6,  6,  6,  6,  6,  6,  6,  7,\n",
       "        7,  7,  7,  7,  7,  7,  7,  7,  7,  7,  7,  8,  8,  8,  8,  8,  8,\n",
       "        8,  8,  8,  8,  8,  8,  9,  9,  9,  9,  9,  9,  9,  9,  9,  9,  9,\n",
       "        9, 10, 10, 10, 10, 10, 10, 10, 10, 10, 10, 10, 10, 11, 11, 11, 11,\n",
       "       11, 11, 11, 11, 11, 11, 11, 11, 12, 12, 12, 12, 12, 12, 12, 12, 12,\n",
       "       12, 12, 12, 13, 13, 13, 13, 13, 13, 13, 13, 13, 13, 13, 13, 14, 14,\n",
       "       14, 14, 14, 14, 14, 14, 14, 14, 14, 14, 15, 15, 15, 15, 15, 15, 15,\n",
       "       15, 15, 15, 15, 15, 16, 16, 16, 16, 16, 16, 16, 16, 16, 16, 16, 16,\n",
       "       17, 17, 17, 17, 17, 17, 17, 17, 17, 17, 17, 17, 18, 18, 18, 18, 18,\n",
       "       18, 18, 18, 18, 18, 18, 18, 19, 19, 19, 19, 19, 19, 19, 19, 19, 19,\n",
       "       19, 19], dtype=uint8)"
      ]
     },
     "execution_count": 8,
     "metadata": {},
     "output_type": "execute_result"
    }
   ],
   "source": [
    "y_train"
   ]
  },
  {
   "cell_type": "code",
   "execution_count": 9,
   "id": "e05fe355",
   "metadata": {},
   "outputs": [],
   "source": [
    "from sklearn.model_selection import train_test_split"
   ]
  },
  {
   "cell_type": "code",
   "execution_count": 11,
   "id": "6d12f188",
   "metadata": {},
   "outputs": [],
   "source": [
    "x_train_valid, x_test_valid, y_train_valid, y_test_valid = train_test_split(\n",
    "    x_train, y_train, train_size=0.7, random_state=1234 )"
   ]
  },
  {
   "cell_type": "code",
   "execution_count": 13,
   "id": "68c46368",
   "metadata": {},
   "outputs": [
    {
     "name": "stdout",
     "output_type": "stream",
     "text": [
      "(240, 10304)\n",
      "(160, 10304)\n",
      "(168, 10304)\n",
      "(72, 10304)\n",
      "(168,)\n",
      "(72,)\n"
     ]
    }
   ],
   "source": [
    "print(x_train.shape)\n",
    "print(x_test.shape)\n",
    "print(x_train_valid.shape)\n",
    "print(x_test_valid.shape)\n",
    "print(y_train_valid.shape)\n",
    "print(y_test_valid.shape)"
   ]
  },
  {
   "cell_type": "code",
   "execution_count": 14,
   "id": "405fe026",
   "metadata": {},
   "outputs": [],
   "source": [
    "im_rows = 112\n",
    "im_cols = 92\n",
    "\n",
    "im_size = (im_rows, im_cols, 1)"
   ]
  },
  {
   "cell_type": "code",
   "execution_count": 15,
   "id": "7d3eef9a",
   "metadata": {},
   "outputs": [],
   "source": [
    "x_train_valid = x_train_valid.reshape(x_train_valid.shape[0], *im_size)\n",
    "x_test_valid = x_test_valid.reshape(x_test_valid.shape[0], *im_size)"
   ]
  },
  {
   "cell_type": "code",
   "execution_count": 25,
   "id": "c07b49de",
   "metadata": {},
   "outputs": [
    {
     "name": "stdout",
     "output_type": "stream",
     "text": [
      "(168, 112, 92, 1)\n",
      "(72, 112, 92, 1)\n"
     ]
    }
   ],
   "source": [
    "print(x_train_valid.shape)\n",
    "print(x_test_valid.shape)"
   ]
  },
  {
   "cell_type": "code",
   "execution_count": 17,
   "id": "586ca4fc",
   "metadata": {},
   "outputs": [],
   "source": [
    "import tensorflow as tf\n",
    "from tensorflow.keras import Sequential\n",
    "from tensorflow.keras.layers import Conv2D,MaxPooling2D,Dense,Flatten,Dropout"
   ]
  },
  {
   "cell_type": "code",
   "execution_count": 18,
   "id": "1d16793a",
   "metadata": {},
   "outputs": [],
   "source": [
    "cnn_model = Sequential([\n",
    "    Conv2D(filters = 32, kernel_size = 5, activation = 'relu', input_shape = im_size ),\n",
    "    MaxPooling2D(pool_size = 2),\n",
    "    Conv2D(filters = 64, kernel_size = 5, activation = 'relu'),\n",
    "    MaxPooling2D(pool_size = 2),\n",
    "    Flatten(),\n",
    "    Dense(units = 2048, activation = 'relu'),\n",
    "    Dropout(0.5),\n",
    "    Dense(units = 1024, activation = 'relu'),\n",
    "    Dropout(0.5),\n",
    "    Dense(units = 512, activation = 'relu'),\n",
    "    Dropout(0.5),\n",
    "    Dense(20, activation = 'softmax')\n",
    "])"
   ]
  },
  {
   "cell_type": "code",
   "execution_count": 19,
   "id": "97f8648e",
   "metadata": {},
   "outputs": [],
   "source": [
    "cnn_model.compile(optimizer= tf.keras.optimizers.Adam(learning_rate=0.001), \n",
    "                  loss= tf.keras.losses.SparseCategoricalCrossentropy(), \n",
    "                  metrics=['accuracy'])"
   ]
  },
  {
   "cell_type": "code",
   "execution_count": 21,
   "id": "a1baebce",
   "metadata": {},
   "outputs": [
    {
     "name": "stdout",
     "output_type": "stream",
     "text": [
      "Epoch 1/100\n",
      "1/1 [==============================] - 3s 3s/step - loss: 3.0001 - accuracy: 0.0595 - val_loss: 3.2967 - val_accuracy: 0.0556\n",
      "Epoch 2/100\n",
      "1/1 [==============================] - 2s 2s/step - loss: 3.8738 - accuracy: 0.0476 - val_loss: 3.0370 - val_accuracy: 0.0556\n",
      "Epoch 3/100\n",
      "1/1 [==============================] - 2s 2s/step - loss: 3.1718 - accuracy: 0.0536 - val_loss: 2.9912 - val_accuracy: 0.0139\n",
      "Epoch 4/100\n",
      "1/1 [==============================] - 2s 2s/step - loss: 3.0179 - accuracy: 0.0774 - val_loss: 2.9908 - val_accuracy: 0.0556\n",
      "Epoch 5/100\n",
      "1/1 [==============================] - 2s 2s/step - loss: 2.9882 - accuracy: 0.0476 - val_loss: 2.9917 - val_accuracy: 0.0556\n",
      "Epoch 6/100\n",
      "1/1 [==============================] - 2s 2s/step - loss: 2.9796 - accuracy: 0.1012 - val_loss: 2.9901 - val_accuracy: 0.0556\n",
      "Epoch 7/100\n",
      "1/1 [==============================] - 2s 2s/step - loss: 2.9765 - accuracy: 0.0714 - val_loss: 2.9968 - val_accuracy: 0.0694\n",
      "Epoch 8/100\n",
      "1/1 [==============================] - 2s 2s/step - loss: 2.9726 - accuracy: 0.1250 - val_loss: 2.9974 - val_accuracy: 0.0556\n",
      "Epoch 9/100\n",
      "1/1 [==============================] - 2s 2s/step - loss: 2.9605 - accuracy: 0.0714 - val_loss: 2.9905 - val_accuracy: 0.0556\n",
      "Epoch 10/100\n",
      "1/1 [==============================] - 2s 2s/step - loss: 2.9625 - accuracy: 0.0833 - val_loss: 2.9801 - val_accuracy: 0.0556\n",
      "Epoch 11/100\n",
      "1/1 [==============================] - 2s 2s/step - loss: 2.9240 - accuracy: 0.1429 - val_loss: 2.9695 - val_accuracy: 0.0694\n",
      "Epoch 12/100\n",
      "1/1 [==============================] - 2s 2s/step - loss: 2.9078 - accuracy: 0.1250 - val_loss: 2.9647 - val_accuracy: 0.0556\n",
      "Epoch 13/100\n",
      "1/1 [==============================] - 2s 2s/step - loss: 2.8821 - accuracy: 0.1012 - val_loss: 2.9261 - val_accuracy: 0.0556\n",
      "Epoch 14/100\n",
      "1/1 [==============================] - 2s 2s/step - loss: 2.8557 - accuracy: 0.1607 - val_loss: 2.8790 - val_accuracy: 0.0833\n",
      "Epoch 15/100\n",
      "1/1 [==============================] - 2s 2s/step - loss: 2.8021 - accuracy: 0.1250 - val_loss: 2.8344 - val_accuracy: 0.1389\n",
      "Epoch 16/100\n",
      "1/1 [==============================] - 2s 2s/step - loss: 2.7131 - accuracy: 0.1607 - val_loss: 2.7754 - val_accuracy: 0.1806\n",
      "Epoch 17/100\n",
      "1/1 [==============================] - 2s 2s/step - loss: 2.6841 - accuracy: 0.1667 - val_loss: 2.6821 - val_accuracy: 0.2361\n",
      "Epoch 18/100\n",
      "1/1 [==============================] - 2s 2s/step - loss: 2.6096 - accuracy: 0.2440 - val_loss: 2.5794 - val_accuracy: 0.2500\n",
      "Epoch 19/100\n",
      "1/1 [==============================] - 2s 2s/step - loss: 2.4674 - accuracy: 0.3214 - val_loss: 2.4422 - val_accuracy: 0.2917\n",
      "Epoch 20/100\n",
      "1/1 [==============================] - 2s 2s/step - loss: 2.4112 - accuracy: 0.2679 - val_loss: 2.2932 - val_accuracy: 0.3056\n",
      "Epoch 21/100\n",
      "1/1 [==============================] - 2s 2s/step - loss: 2.2265 - accuracy: 0.3631 - val_loss: 2.1531 - val_accuracy: 0.3472\n",
      "Epoch 22/100\n",
      "1/1 [==============================] - 2s 2s/step - loss: 2.0370 - accuracy: 0.4286 - val_loss: 1.9437 - val_accuracy: 0.3750\n",
      "Epoch 23/100\n",
      "1/1 [==============================] - 2s 2s/step - loss: 1.9408 - accuracy: 0.3929 - val_loss: 1.7264 - val_accuracy: 0.4722\n",
      "Epoch 24/100\n",
      "1/1 [==============================] - 2s 2s/step - loss: 1.6906 - accuracy: 0.5000 - val_loss: 1.5964 - val_accuracy: 0.5833\n",
      "Epoch 25/100\n",
      "1/1 [==============================] - 2s 2s/step - loss: 1.5293 - accuracy: 0.5179 - val_loss: 1.4257 - val_accuracy: 0.6250\n",
      "Epoch 26/100\n",
      "1/1 [==============================] - 2s 2s/step - loss: 1.3579 - accuracy: 0.5417 - val_loss: 1.2548 - val_accuracy: 0.7083\n",
      "Epoch 27/100\n",
      "1/1 [==============================] - 2s 2s/step - loss: 1.2109 - accuracy: 0.6190 - val_loss: 1.1110 - val_accuracy: 0.8194\n",
      "Epoch 28/100\n",
      "1/1 [==============================] - 2s 2s/step - loss: 1.0639 - accuracy: 0.6369 - val_loss: 0.9260 - val_accuracy: 0.8472\n",
      "Epoch 29/100\n",
      "1/1 [==============================] - 2s 2s/step - loss: 1.0357 - accuracy: 0.6667 - val_loss: 0.8668 - val_accuracy: 0.8472\n",
      "Epoch 30/100\n",
      "1/1 [==============================] - 2s 2s/step - loss: 0.9218 - accuracy: 0.7262 - val_loss: 0.7340 - val_accuracy: 0.8472\n",
      "Epoch 31/100\n",
      "1/1 [==============================] - 2s 2s/step - loss: 0.6922 - accuracy: 0.7917 - val_loss: 0.6126 - val_accuracy: 0.8333\n",
      "Epoch 32/100\n",
      "1/1 [==============================] - 2s 2s/step - loss: 0.6504 - accuracy: 0.8036 - val_loss: 0.5332 - val_accuracy: 0.8611\n",
      "Epoch 33/100\n",
      "1/1 [==============================] - 2s 2s/step - loss: 0.5218 - accuracy: 0.8333 - val_loss: 0.5029 - val_accuracy: 0.9167\n",
      "Epoch 34/100\n",
      "1/1 [==============================] - 2s 2s/step - loss: 0.4731 - accuracy: 0.8810 - val_loss: 0.4170 - val_accuracy: 0.9167\n",
      "Epoch 35/100\n",
      "1/1 [==============================] - 2s 2s/step - loss: 0.4105 - accuracy: 0.8631 - val_loss: 0.3768 - val_accuracy: 0.8889\n",
      "Epoch 36/100\n",
      "1/1 [==============================] - 2s 2s/step - loss: 0.3445 - accuracy: 0.9048 - val_loss: 0.3333 - val_accuracy: 0.9028\n",
      "Epoch 37/100\n",
      "1/1 [==============================] - 2s 2s/step - loss: 0.3064 - accuracy: 0.9226 - val_loss: 0.3015 - val_accuracy: 0.9028\n",
      "Epoch 38/100\n",
      "1/1 [==============================] - 2s 2s/step - loss: 0.2011 - accuracy: 0.9464 - val_loss: 0.2478 - val_accuracy: 0.9444\n",
      "Epoch 39/100\n",
      "1/1 [==============================] - 2s 2s/step - loss: 0.1855 - accuracy: 0.9524 - val_loss: 0.2164 - val_accuracy: 0.9583\n",
      "Epoch 40/100\n",
      "1/1 [==============================] - 2s 2s/step - loss: 0.1486 - accuracy: 0.9524 - val_loss: 0.1891 - val_accuracy: 0.9583\n",
      "Epoch 41/100\n",
      "1/1 [==============================] - 2s 2s/step - loss: 0.1739 - accuracy: 0.9583 - val_loss: 0.1591 - val_accuracy: 0.9583\n",
      "Epoch 42/100\n",
      "1/1 [==============================] - 2s 2s/step - loss: 0.0869 - accuracy: 0.9762 - val_loss: 0.1366 - val_accuracy: 0.9722\n",
      "Epoch 43/100\n",
      "1/1 [==============================] - 2s 2s/step - loss: 0.0883 - accuracy: 0.9702 - val_loss: 0.1161 - val_accuracy: 0.9722\n",
      "Epoch 44/100\n",
      "1/1 [==============================] - 2s 2s/step - loss: 0.0646 - accuracy: 0.9821 - val_loss: 0.1084 - val_accuracy: 0.9722\n",
      "Epoch 45/100\n",
      "1/1 [==============================] - 2s 2s/step - loss: 0.0404 - accuracy: 0.9881 - val_loss: 0.1095 - val_accuracy: 0.9722\n",
      "Epoch 46/100\n",
      "1/1 [==============================] - 2s 2s/step - loss: 0.0836 - accuracy: 0.9762 - val_loss: 0.1095 - val_accuracy: 0.9444\n",
      "Epoch 47/100\n",
      "1/1 [==============================] - 2s 2s/step - loss: 0.0554 - accuracy: 0.9762 - val_loss: 0.1055 - val_accuracy: 0.9306\n",
      "Epoch 48/100\n",
      "1/1 [==============================] - 2s 2s/step - loss: 0.0586 - accuracy: 0.9881 - val_loss: 0.1016 - val_accuracy: 0.9444\n",
      "Epoch 49/100\n",
      "1/1 [==============================] - 2s 2s/step - loss: 0.0680 - accuracy: 0.9762 - val_loss: 0.0929 - val_accuracy: 0.9583\n",
      "Epoch 50/100\n",
      "1/1 [==============================] - 2s 2s/step - loss: 0.1013 - accuracy: 0.9583 - val_loss: 0.0940 - val_accuracy: 0.9583\n",
      "Epoch 51/100\n",
      "1/1 [==============================] - 2s 2s/step - loss: 0.0515 - accuracy: 0.9881 - val_loss: 0.0881 - val_accuracy: 0.9583\n",
      "Epoch 52/100\n",
      "1/1 [==============================] - 2s 2s/step - loss: 0.0418 - accuracy: 0.9940 - val_loss: 0.0799 - val_accuracy: 0.9583\n",
      "Epoch 53/100\n",
      "1/1 [==============================] - 2s 2s/step - loss: 0.0560 - accuracy: 0.9762 - val_loss: 0.0767 - val_accuracy: 0.9583\n",
      "Epoch 54/100\n",
      "1/1 [==============================] - 2s 2s/step - loss: 0.0151 - accuracy: 1.0000 - val_loss: 0.0864 - val_accuracy: 0.9722\n",
      "Epoch 55/100\n",
      "1/1 [==============================] - 2s 2s/step - loss: 0.0690 - accuracy: 0.9881 - val_loss: 0.0990 - val_accuracy: 0.9583\n",
      "Epoch 56/100\n",
      "1/1 [==============================] - 2s 2s/step - loss: 0.0248 - accuracy: 0.9940 - val_loss: 0.1025 - val_accuracy: 0.9722\n",
      "Epoch 57/100\n",
      "1/1 [==============================] - 2s 2s/step - loss: 0.0144 - accuracy: 1.0000 - val_loss: 0.1006 - val_accuracy: 0.9722\n",
      "Epoch 58/100\n",
      "1/1 [==============================] - 2s 2s/step - loss: 0.0143 - accuracy: 1.0000 - val_loss: 0.0952 - val_accuracy: 0.9722\n",
      "Epoch 59/100\n",
      "1/1 [==============================] - 2s 2s/step - loss: 0.0253 - accuracy: 0.9940 - val_loss: 0.0871 - val_accuracy: 0.9722\n",
      "Epoch 60/100\n"
     ]
    },
    {
     "name": "stdout",
     "output_type": "stream",
     "text": [
      "1/1 [==============================] - 2s 2s/step - loss: 0.0151 - accuracy: 0.9940 - val_loss: 0.0860 - val_accuracy: 0.9722\n",
      "Epoch 61/100\n",
      "1/1 [==============================] - 2s 2s/step - loss: 0.0216 - accuracy: 0.9881 - val_loss: 0.0800 - val_accuracy: 0.9722\n",
      "Epoch 62/100\n",
      "1/1 [==============================] - 2s 2s/step - loss: 0.0295 - accuracy: 0.9821 - val_loss: 0.0765 - val_accuracy: 0.9722\n",
      "Epoch 63/100\n",
      "1/1 [==============================] - 2s 2s/step - loss: 0.0107 - accuracy: 1.0000 - val_loss: 0.0698 - val_accuracy: 0.9722\n",
      "Epoch 64/100\n",
      "1/1 [==============================] - 2s 2s/step - loss: 0.0124 - accuracy: 0.9940 - val_loss: 0.0577 - val_accuracy: 0.9722\n",
      "Epoch 65/100\n",
      "1/1 [==============================] - 2s 2s/step - loss: 0.0145 - accuracy: 0.9940 - val_loss: 0.0503 - val_accuracy: 0.9722\n",
      "Epoch 66/100\n",
      "1/1 [==============================] - 2s 2s/step - loss: 0.0423 - accuracy: 0.9821 - val_loss: 0.0457 - val_accuracy: 0.9722\n",
      "Epoch 67/100\n",
      "1/1 [==============================] - 2s 2s/step - loss: 0.0093 - accuracy: 1.0000 - val_loss: 0.0442 - val_accuracy: 0.9722\n",
      "Epoch 68/100\n",
      "1/1 [==============================] - 2s 2s/step - loss: 0.0069 - accuracy: 1.0000 - val_loss: 0.0435 - val_accuracy: 0.9861\n",
      "Epoch 69/100\n",
      "1/1 [==============================] - 2s 2s/step - loss: 0.0195 - accuracy: 0.9881 - val_loss: 0.0449 - val_accuracy: 0.9722\n",
      "Epoch 70/100\n",
      "1/1 [==============================] - 2s 2s/step - loss: 0.0255 - accuracy: 0.9940 - val_loss: 0.0440 - val_accuracy: 0.9722\n",
      "Epoch 71/100\n",
      "1/1 [==============================] - 2s 2s/step - loss: 0.0106 - accuracy: 1.0000 - val_loss: 0.0441 - val_accuracy: 0.9722\n",
      "Epoch 72/100\n",
      "1/1 [==============================] - 2s 2s/step - loss: 0.0115 - accuracy: 1.0000 - val_loss: 0.0415 - val_accuracy: 0.9861\n",
      "Epoch 73/100\n",
      "1/1 [==============================] - 2s 2s/step - loss: 0.0138 - accuracy: 1.0000 - val_loss: 0.0376 - val_accuracy: 0.9861\n",
      "Epoch 74/100\n",
      "1/1 [==============================] - 2s 2s/step - loss: 0.0177 - accuracy: 0.9940 - val_loss: 0.0335 - val_accuracy: 0.9861\n",
      "Epoch 75/100\n",
      "1/1 [==============================] - 2s 2s/step - loss: 0.0116 - accuracy: 0.9940 - val_loss: 0.0324 - val_accuracy: 0.9861\n",
      "Epoch 76/100\n",
      "1/1 [==============================] - 2s 2s/step - loss: 0.0066 - accuracy: 1.0000 - val_loss: 0.0306 - val_accuracy: 0.9861\n",
      "Epoch 77/100\n",
      "1/1 [==============================] - 2s 2s/step - loss: 0.0343 - accuracy: 0.9881 - val_loss: 0.0279 - val_accuracy: 0.9861\n",
      "Epoch 78/100\n",
      "1/1 [==============================] - 2s 2s/step - loss: 0.0029 - accuracy: 1.0000 - val_loss: 0.0253 - val_accuracy: 0.9861\n",
      "Epoch 79/100\n",
      "1/1 [==============================] - 2s 2s/step - loss: 0.0020 - accuracy: 1.0000 - val_loss: 0.0236 - val_accuracy: 0.9861\n",
      "Epoch 80/100\n",
      "1/1 [==============================] - 2s 2s/step - loss: 0.0125 - accuracy: 0.9940 - val_loss: 0.0242 - val_accuracy: 0.9861\n",
      "Epoch 81/100\n",
      "1/1 [==============================] - 2s 2s/step - loss: 0.0016 - accuracy: 1.0000 - val_loss: 0.0256 - val_accuracy: 0.9861\n",
      "Epoch 82/100\n",
      "1/1 [==============================] - 2s 2s/step - loss: 7.0361e-04 - accuracy: 1.0000 - val_loss: 0.0283 - val_accuracy: 0.9861\n",
      "Epoch 83/100\n",
      "1/1 [==============================] - 2s 2s/step - loss: 0.0048 - accuracy: 1.0000 - val_loss: 0.0301 - val_accuracy: 0.9861\n",
      "Epoch 84/100\n",
      "1/1 [==============================] - 2s 2s/step - loss: 0.0143 - accuracy: 0.9940 - val_loss: 0.0301 - val_accuracy: 0.9861\n",
      "Epoch 85/100\n",
      "1/1 [==============================] - 2s 2s/step - loss: 0.0032 - accuracy: 1.0000 - val_loss: 0.0301 - val_accuracy: 0.9861\n",
      "Epoch 86/100\n",
      "1/1 [==============================] - 2s 2s/step - loss: 0.0078 - accuracy: 1.0000 - val_loss: 0.0293 - val_accuracy: 0.9861\n",
      "Epoch 87/100\n",
      "1/1 [==============================] - 2s 2s/step - loss: 0.0192 - accuracy: 0.9940 - val_loss: 0.0240 - val_accuracy: 0.9861\n",
      "Epoch 88/100\n",
      "1/1 [==============================] - 2s 2s/step - loss: 0.0030 - accuracy: 1.0000 - val_loss: 0.0207 - val_accuracy: 0.9861\n",
      "Epoch 89/100\n",
      "1/1 [==============================] - 2s 2s/step - loss: 0.0016 - accuracy: 1.0000 - val_loss: 0.0181 - val_accuracy: 0.9861\n",
      "Epoch 90/100\n",
      "1/1 [==============================] - 2s 2s/step - loss: 0.0030 - accuracy: 1.0000 - val_loss: 0.0170 - val_accuracy: 0.9861\n",
      "Epoch 91/100\n",
      "1/1 [==============================] - 2s 2s/step - loss: 0.0064 - accuracy: 1.0000 - val_loss: 0.0176 - val_accuracy: 0.9861\n",
      "Epoch 92/100\n",
      "1/1 [==============================] - 2s 2s/step - loss: 0.0011 - accuracy: 1.0000 - val_loss: 0.0183 - val_accuracy: 0.9861\n",
      "Epoch 93/100\n",
      "1/1 [==============================] - 2s 2s/step - loss: 0.0015 - accuracy: 1.0000 - val_loss: 0.0191 - val_accuracy: 0.9861\n",
      "Epoch 94/100\n",
      "1/1 [==============================] - 2s 2s/step - loss: 0.0053 - accuracy: 1.0000 - val_loss: 0.0207 - val_accuracy: 0.9861\n",
      "Epoch 95/100\n",
      "1/1 [==============================] - 2s 2s/step - loss: 0.0013 - accuracy: 1.0000 - val_loss: 0.0228 - val_accuracy: 0.9861\n",
      "Epoch 96/100\n",
      "1/1 [==============================] - 2s 2s/step - loss: 0.0022 - accuracy: 1.0000 - val_loss: 0.0238 - val_accuracy: 0.9861\n",
      "Epoch 97/100\n",
      "1/1 [==============================] - 2s 2s/step - loss: 5.0688e-04 - accuracy: 1.0000 - val_loss: 0.0247 - val_accuracy: 0.9861\n",
      "Epoch 98/100\n",
      "1/1 [==============================] - 2s 2s/step - loss: 0.0066 - accuracy: 0.9940 - val_loss: 0.0289 - val_accuracy: 0.9861\n",
      "Epoch 99/100\n",
      "1/1 [==============================] - 2s 2s/step - loss: 0.0025 - accuracy: 1.0000 - val_loss: 0.0332 - val_accuracy: 0.9861\n",
      "Epoch 100/100\n",
      "1/1 [==============================] - 2s 2s/step - loss: 0.0021 - accuracy: 1.0000 - val_loss: 0.0376 - val_accuracy: 0.9861\n"
     ]
    }
   ],
   "source": [
    "result = cnn_model.fit(x_train_valid,y_train_valid, epochs=100, batch_size=512, validation_data=(x_test_valid, y_test_valid))"
   ]
  },
  {
   "cell_type": "code",
   "execution_count": 26,
   "id": "58c4a689",
   "metadata": {},
   "outputs": [],
   "source": [
    "score = cnn_model.evaluate(x_test_valid, y_test_valid, verbose=0)"
   ]
  },
  {
   "cell_type": "code",
   "execution_count": 27,
   "id": "0adba439",
   "metadata": {},
   "outputs": [
    {
     "data": {
      "text/plain": [
       "[0.03758759796619415, 0.9861111044883728]"
      ]
     },
     "execution_count": 27,
     "metadata": {},
     "output_type": "execute_result"
    }
   ],
   "source": [
    "score"
   ]
  },
  {
   "cell_type": "code",
   "execution_count": 28,
   "id": "c68be98f",
   "metadata": {},
   "outputs": [
    {
     "name": "stdout",
     "output_type": "stream",
     "text": [
      " test loss = 0.0376\n",
      " test accuracy =  0.9861\n"
     ]
    }
   ],
   "source": [
    "print(\" test loss = {:.4f}\".format(score[0]))\n",
    "print(\" test accuracy =  {:.4f}\".format(score[1]))"
   ]
  },
  {
   "cell_type": "code",
   "execution_count": 29,
   "id": "9868fbe1",
   "metadata": {},
   "outputs": [],
   "source": [
    "import matplotlib.pyplot as plt"
   ]
  },
  {
   "cell_type": "code",
   "execution_count": 30,
   "id": "a211b5b7",
   "metadata": {},
   "outputs": [
    {
     "name": "stdout",
     "output_type": "stream",
     "text": [
      "dict_keys(['loss', 'accuracy', 'val_loss', 'val_accuracy'])\n"
     ]
    }
   ],
   "source": [
    "print(result.history.keys())"
   ]
  },
  {
   "cell_type": "code",
   "execution_count": 31,
   "id": "f2cb4e9a",
   "metadata": {},
   "outputs": [
    {
     "data": {
      "image/png": "[encoded data removed]",
      "text/plain": [
       "<Figure size 720x720 with 1 Axes>"
      ]
     },
     "metadata": {
      "needs_background": "light"
     },
     "output_type": "display_data"
    }
   ],
   "source": [
    "plt.figure(figsize=(10,10))\n",
    "\n",
    "plt.plot(result.history['accuracy'])\n",
    "plt.plot(result.history['val_accuracy'])\n",
    "plt.title(\"Model Accuracy\")\n",
    "plt.xlabel(\"Epochs\")\n",
    "plt.ylabel(\"Accuracy\")\n",
    "plt.legend(['train','test'], loc = 'best')\n",
    "plt.show()"
   ]
  },
  {
   "cell_type": "code",
   "execution_count": 32,
   "id": "5b00dacf",
   "metadata": {},
   "outputs": [
    {
     "data": {
      "image/png": "[encoded data removed]",
      "text/plain": [
       "<Figure size 720x720 with 1 Axes>"
      ]
     },
     "metadata": {
      "needs_background": "light"
     },
     "output_type": "display_data"
    }
   ],
   "source": [
    "plt.figure(figsize=(10,10))\n",
    "\n",
    "plt.plot(result.history['loss'])\n",
    "plt.plot(result.history['val_loss'])\n",
    "plt.title(\"Model loss\")\n",
    "plt.xlabel(\"Epochs\")\n",
    "plt.ylabel(\"losses\")\n",
    "plt.legend(['train','test'], loc = 'best')\n",
    "plt.show()"
   ]
  },
  {
   "cell_type": "code",
   "execution_count": null,
   "id": "04bda29f",
   "metadata": {},
   "outputs": [],
   "source": []
  }
 ],
 "metadata": {
  "kernelspec": {
   "display_name": "Python 3",
   "language": "python",
   "name": "python3"
  },
  "language_info": {
   "codemirror_mode": {
    "name": "ipython",
    "version": 3
   },
   "file_extension": ".py",
   "mimetype": "text/x-python",
   "name": "python",
   "nbconvert_exporter": "python",
   "pygments_lexer": "ipython3",
   "version": "3.8.8"
  }
 },
 "nbformat": 4,
 "nbformat_minor": 5
}
